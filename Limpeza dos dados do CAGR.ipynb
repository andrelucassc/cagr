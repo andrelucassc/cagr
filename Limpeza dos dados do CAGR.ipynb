{
 "cells": [
  {
   "cell_type": "markdown",
   "metadata": {},
   "source": [
    "# Limpeza dos Dados do CAGR"
   ]
  },
  {
   "cell_type": "markdown",
   "metadata": {},
   "source": [
    "## Importaçao dos Dados"
   ]
  },
  {
   "cell_type": "code",
   "execution_count": 1,
   "metadata": {},
   "outputs": [],
   "source": [
    "import pandas as pd\n",
    "\n",
    "df = pd.read_csv('Dados CAGR.csv',sep=';',index_col=0)\n",
    "\n",
    "df = df.drop(['Ementa','Currículo'], axis=1)\n",
    "\n",
    "## Correção de colunas com valores nulos por erro nos dados do CAGR:\n",
    "map_cols = {\n",
    "    'Horas  Aula':'HorasAula',\n",
    "    'Vagas  Ofertadas':'VagasOfertadas', \n",
    "    'Vagas  Ocupadas':'VagasOcupadas', \n",
    "    'Alunos  Especiais':'AlunosEspeciais',\n",
    "    'Saldo  Vagas':'SaldoVagas',\n",
    "    'Pedidos  sem vaga':'Pedidossem vaga'\n",
    "}\n",
    "\n",
    "for col in map_cols.keys():\n",
    "    df[col] = df[col].fillna(df[map_cols[col]])\n",
    "\n",
    "df = df.drop(list(map_cols.values()), axis=1)"
   ]
  },
  {
   "cell_type": "code",
   "execution_count": 2,
   "metadata": {},
   "outputs": [
    {
     "data": {
      "text/plain": [
       "Index(['Disciplina', 'Turma', 'Nome da Disciplina', 'Horas  Aula',\n",
       "       'Vagas  Ofertadas', 'Vagas  Ocupadas', 'Alunos  Especiais',\n",
       "       'Saldo  Vagas', 'Pedidos  sem vaga', 'Horários', 'Professor'],\n",
       "      dtype='object')"
      ]
     },
     "execution_count": 2,
     "metadata": {},
     "output_type": "execute_result"
    }
   ],
   "source": [
    "df.columns"
   ]
  },
  {
   "cell_type": "code",
   "execution_count": null,
   "metadata": {},
   "outputs": [],
   "source": [
    "# As 20 matérias com mais pedidos sem vaga\n",
    "\n",
    "df.groupby('Disciplina').sum().sort_values(\"Pedidos  sem vaga\", ascending=False).head(20)"
   ]
  },
  {
   "cell_type": "code",
   "execution_count": 31,
   "metadata": {},
   "outputs": [
    {
     "data": {
      "text/plain": [
       "'ACL'"
      ]
     },
     "execution_count": 31,
     "metadata": {},
     "output_type": "execute_result"
    }
   ],
   "source": [
    "def get_centro(d):\n",
    "    return d[0:3]\n",
    "\n",
    "df[\"Centro\"] = df[\"Disciplina\"].apply(get_centro)\n",
    "\n",
    "ListaDepto = df[\"Centro\"].unique()\n",
    "#df.groupby('Centro').sum().sort_values(\"Pedidos  sem vaga\", ascending=False)\n",
    "ListaDepto[0]"
   ]
  },
  {
   "cell_type": "code",
   "execution_count": 35,
   "metadata": {},
   "outputs": [],
   "source": [
    "ListaDepto\n",
    "Deptos=pd.DataFrame({'Centro':ListaDepto[:]})\n",
    "#Deptos.to_csv(\"Departamentos.csv\", sep=\";\")"
   ]
  },
  {
   "cell_type": "markdown",
   "metadata": {},
   "source": [
    "## Extração dos Dados de Dia da Semana, Horário, Créditos e Local das Matérias"
   ]
  },
  {
   "cell_type": "code",
   "execution_count": null,
   "metadata": {
    "scrolled": true
   },
   "outputs": [],
   "source": [
    "def get_horarios(h):\n",
    "    if isinstance(h, str):\n",
    "        return h.replace(' / ','|').split(' ')\n",
    "    else:\n",
    "        return []\n",
    "\n",
    "df[\"Limpeza Horário\"] = df['Horários'].apply(get_horarios)\n",
    "\n",
    "df[\"Limpeza Horário\"]\n",
    "\n",
    "def get_weekday(h):\n",
    "    if len(h) >= 1:\n",
    "        return [x[0] for x in h if len(x) > 0]\n",
    "    else:\n",
    "        return None\n",
    "\n",
    "def get_time(h):\n",
    "    if len(h) >= 1:\n",
    "        return [x[2:6] for x in h if len(x) > 0]\n",
    "    else:\n",
    "        return None\n",
    "    \n",
    "def get_creditos(h):\n",
    "    if len(h) >= 1:\n",
    "        return [x[7] for x in h if len(x) > 7]\n",
    "    else:\n",
    "        return None\n",
    "    \n",
    "def get_local(h):\n",
    "    if len(h) >= 1:\n",
    "        return [x.split('|')[-1] for x in h if len(x) > 0]\n",
    "    else:\n",
    "        return None\n",
    "    \n",
    "    \n",
    "\n",
    "df[\"Dias da Semana\"] = df[\"Limpeza Horário\"].apply(get_weekday)\n",
    "\n",
    "df[\"Horários no dia\"] = df[\"Limpeza Horário\"].apply(get_time)\n",
    "\n",
    "df[\"Créditos nos horários\"] = df[\"Limpeza Horário\"].apply(get_creditos)\n",
    "\n",
    "df[\"Sala\"] = df[\"Limpeza Horário\"].apply(get_local)\n",
    "\n",
    "df = df.drop([\"Limpeza Horário\"], axis='columns')\n",
    "\n",
    "df.head(5)"
   ]
  },
  {
   "cell_type": "markdown",
   "metadata": {},
   "source": [
    "## Mapeamento dos Horários para Análise BI"
   ]
  },
  {
   "cell_type": "code",
   "execution_count": null,
   "metadata": {
    "scrolled": false
   },
   "outputs": [],
   "source": [
    "horarios_df = pd.DataFrame()\n",
    "\n",
    "lista_horarios = [\"0730\",\"0820\",\"0910\",\"1010\",\"1100\",\"1330\",\"1420\",\"1510\",\"1620\",\"1710\",\"1830\",\"1920\",\"2020\",\"2110\"]\n",
    "lista_dias_da_semana = [\"2\\.\",\"3\\.\",\"4\\.\",\"5\\.\",\"6\\.\",\"7\\.\"]\n",
    "horarios_df[\"Disciplina\"] = df[\"Disciplina\"]\n",
    "horarios_df[\"Turma\"] = df[\"Turma\"]\n",
    "\n",
    "\n",
    "for dia in lista_dias_da_semana:\n",
    "    horarios_df[dia] = df[\"Horários\"].str.count(dia).fillna(0)\n",
    "\n",
    "for hora in lista_horarios:\n",
    "    horarios_df[hora] = df[\"Horários\"].str.count(hora).fillna(0)\n",
    "    \n",
    "\n",
    "for dia in lista_dias_da_semana:\n",
    "    for hora in lista_horarios:\n",
    "        horarios_df[dia+hora] = df[\"Horários\"].str.count(dia+hora).fillna(0)\n",
    "\n",
    "new_cols = []\n",
    "for col in horarios_df.columns:\n",
    "    new_cols.append(col.replace('\\.','.'))\n",
    "\n",
    "horarios_df.columns = new_cols\n",
    "\n",
    "horarios_df.head()"
   ]
  },
  {
   "cell_type": "markdown",
   "metadata": {},
   "source": [
    "## Salvar arquivos CSV"
   ]
  },
  {
   "cell_type": "code",
   "execution_count": null,
   "metadata": {},
   "outputs": [],
   "source": [
    "df.to_csv(\"Dados Tratados - CAGR.csv\", sep=\";\")\n",
    "\n",
    "horarios_df.to_csv(\"Dataframe dos Horários.csv\", sep=\";\")\n",
    "\n",
    "juntos = pd.merge(df,horarios_df)\n",
    "\n",
    "juntos.to_csv(\"Join Dados Tratados + DF dos horários.csv\", sep=\";\")"
   ]
  },
  {
   "cell_type": "markdown",
   "metadata": {},
   "source": [
    "## Contagem de Turmas Oferecidas por Horário"
   ]
  },
  {
   "cell_type": "code",
   "execution_count": null,
   "metadata": {},
   "outputs": [],
   "source": [
    "dias = [c.replace('\\.','.') for c in lista_dias_da_semana]\n",
    "grade = pd.DataFrame(index=lista_horarios, columns=dias)\n",
    "\n",
    "\n",
    "for dia in dias:\n",
    "    for hora in lista_horarios:\n",
    "        grade.loc[hora][dia] = df[\"Horários\"].str.count(dia+hora).fillna(0).sum().astype(int)\n",
    "        \n",
    "sns.heatmap(grade.fillna(0), annot=True, fmt=\"d\")"
   ]
  },
  {
   "cell_type": "markdown",
   "metadata": {},
   "source": [
    "## Contagem de Pedidos sem Vaga por Horário"
   ]
  },
  {
   "cell_type": "code",
   "execution_count": null,
   "metadata": {},
   "outputs": [],
   "source": [
    "for dia in dias:\n",
    "    for hora in lista_horarios:\n",
    "        grade.loc[hora][dia] = df[pd.Series(df[\"Horários\"].fillna(\"\").str.contains(dia+hora))][\"Pedidossem vaga\"].sum().astype(int) \n",
    "                              \n",
    "sns.heatmap(grade.fillna(0), annot=True, fmt=\"d\")"
   ]
  },
  {
   "cell_type": "code",
   "execution_count": null,
   "metadata": {},
   "outputs": [],
   "source": [
    "from ipywidgets import interact, interactive, fixed, interact_manual\n",
    "\n",
    "global view\n",
    "view = df.copy()\n",
    "global horarios\n",
    "horarios = lista_horarios\n",
    "global dias\n",
    "def get_heatmaps(depto):\n",
    "    \n",
    "    grade_centros = pd.DataFrame(index=horarios, columns=dias)\n",
    "    grade_pedidos = pd.DataFrame(index=horarios, columns=dias)\n",
    "    \n",
    "    view\n",
    "    df = view.loc[view[\"Disciplina\"].str.contains(depto)]\n",
    "    \n",
    "    # Subplot turmas oferecidas por horário\n",
    "    for dia in dias:\n",
    "        for hora in lista_horarios:\n",
    "            grade_centros.loc[hora][dia] = df[\"Horários\"].str.count(dia+hora).fillna(0).sum().astype(int)\n",
    "    \n",
    "    plt.figure(figsize=(18, 10))\n",
    "    plt.subplot(1,2,1)\n",
    "    sns.heatmap(grade_centros.fillna(0), annot=True, fmt=\"d\", linewidth=0.2)\n",
    "    plt.xticks(rotation=0)\n",
    "    plt.yticks(rotation=0)\n",
    "    plt.title(\"Mapa de Calor: Ofertas de Disciplinas\")\n",
    "    \n",
    "    \n",
    "    # Subplot pedidos sem vaga\n",
    "    for dia in dias:\n",
    "        for hora in lista_horarios:\n",
    "            grade_pedidos.loc[hora][dia] = df[pd.Series(df[\"Horários\"].fillna(\"\").str.contains(dia+hora))][\"Pedidos  sem vaga\"].sum().astype(int) \n",
    "    plt.subplot(1,2,2)               \n",
    "    sns.heatmap(grade_pedidos.fillna(0), annot=True, fmt=\"d\", linewidth=0.2)\n",
    "    plt.xticks(rotation=0)\n",
    "    plt.yticks(rotation=0)\n",
    "    plt.title(\"Mapa de Calor: Pedidos sem Vaga\")\n",
    "    \n",
    "\n",
    "interact(get_heatmaps, depto='MTM')"
   ]
  },
  {
   "cell_type": "code",
   "execution_count": null,
   "metadata": {},
   "outputs": [],
   "source": [
    "df.columns"
   ]
  }
 ],
 "metadata": {
  "kernelspec": {
   "display_name": "Python 3",
   "language": "python",
   "name": "python3"
  },
  "language_info": {
   "codemirror_mode": {
    "name": "ipython",
    "version": 3
   },
   "file_extension": ".py",
   "mimetype": "text/x-python",
   "name": "python",
   "nbconvert_exporter": "python",
   "pygments_lexer": "ipython3",
   "version": "3.7.1"
  }
 },
 "nbformat": 4,
 "nbformat_minor": 2
}
